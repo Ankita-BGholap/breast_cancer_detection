{
 "cells": [
  {
   "cell_type": "code",
   "execution_count": null,
   "metadata": {},
   "outputs": [],
   "source": [
    "import pyautogui\n",
    "import tkinter as tk\n",
    "from tkinter.filedialog import *\n",
    "root=tk.Tk()\n",
    "canvas1=tk.Canvas(root,width=400,height=400)\n",
    "canvas1.pack()\n",
    "\n",
    "def takeScreenshot():\n",
    "    myScreenshot=pyautogui.screenshot()\n",
    "    save_path=asksaveasfilename()\n",
    "    myScreenshot.save(save_path+\"_screenshot.png\")\n",
    "    \n",
    "myButton=tk.Button(text=\"take screenshot\",command=takeScreenshot,font=10)\n",
    "canvas1.create_window(150,150,window=myButton)\n",
    "root.mainloop()\n",
    "        "
   ]
  },
  {
   "cell_type": "code",
   "execution_count": 2,
   "metadata": {},
   "outputs": [],
   "source": [
    "import pyautogui\n",
    "import tkinter as tk\n",
    "from tkinter.filedialog import *\n",
    "root=tk.Tk()\n",
    "canvas1=tk.Canvas(root,width=400,height=400)\n",
    "canvas1.pack()\n",
    "\n",
    "def takeScreenshot():\n",
    "    myScreenshot=pyautogui.screenshot()\n",
    "    save_path=asksaveasfilename()\n",
    "    myScreenshot.save(save_path+\"_screenshot.png\")\n",
    "    \n",
    "myButton=tk.Button(text=\"take screenshot\",command=takeScreenshot,font=10)\n",
    "canvas1.create_window(150,150,window=myButton)\n",
    "root.mainloop()"
   ]
  },
  {
   "cell_type": "code",
   "execution_count": null,
   "metadata": {},
   "outputs": [],
   "source": []
  }
 ],
 "metadata": {
  "kernelspec": {
   "display_name": "Python 3",
   "language": "python",
   "name": "python3"
  },
  "language_info": {
   "codemirror_mode": {
    "name": "ipython",
    "version": 3
   },
   "file_extension": ".py",
   "mimetype": "text/x-python",
   "name": "python",
   "nbconvert_exporter": "python",
   "pygments_lexer": "ipython3",
   "version": "3.8.3"
  }
 },
 "nbformat": 4,
 "nbformat_minor": 4
}
