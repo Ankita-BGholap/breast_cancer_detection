{
  "nbformat": 4,
  "nbformat_minor": 0,
  "metadata": {
    "colab": {
      "name": "breastcancerdetection.ipynb",
      "provenance": [],
      "authorship_tag": "ABX9TyPi8rt9p0A+fcb+NCh8avje",
      "include_colab_link": true
    },
    "kernelspec": {
      "name": "python3",
      "display_name": "Python 3"
    },
    "language_info": {
      "name": "python"
    }
  },
  "cells": [
    {
      "cell_type": "markdown",
      "metadata": {
        "id": "view-in-github",
        "colab_type": "text"
      },
      "source": [
        "<a href=\"https://colab.research.google.com/github/Ankita1254/hello-world/blob/master/breastcancerdetection.ipynb\" target=\"_parent\"><img src=\"https://colab.research.google.com/assets/colab-badge.svg\" alt=\"Open In Colab\"/></a>"
      ]
    },
    {
      "cell_type": "code",
      "metadata": {
        "id": "ARDflydGnXno"
      },
      "source": [
        "\n",
        "import pandas as pd\n",
        "import numpy as np\n",
        "\n",
        "from sklearn.datasets import load_breast_cancer\n",
        "from sklearn.preprocessing import StandardScaler\n",
        "\n",
        "from keras.models import Sequential\n",
        "from keras.layers import Dense"
      ],
      "execution_count": 1,
      "outputs": []
    },
    {
      "cell_type": "code",
      "metadata": {
        "id": "HxwQdJhFntWX"
      },
      "source": [
        "data = load_breast_cancer()"
      ],
      "execution_count": 2,
      "outputs": []
    },
    {
      "cell_type": "code",
      "metadata": {
        "colab": {
          "base_uri": "https://localhost:8080/"
        },
        "id": "2CVpf4jOn0mZ",
        "outputId": "65465d36-3098-4762-e3e8-456dffafa340"
      },
      "source": [
        "\n",
        "data.keys()"
      ],
      "execution_count": 3,
      "outputs": [
        {
          "output_type": "execute_result",
          "data": {
            "text/plain": [
              "dict_keys(['data', 'target', 'target_names', 'DESCR', 'feature_names', 'filename'])"
            ]
          },
          "metadata": {},
          "execution_count": 3
        }
      ]
    },
    {
      "cell_type": "code",
      "metadata": {
        "colab": {
          "base_uri": "https://localhost:8080/"
        },
        "id": "K_nNvAsxn4-R",
        "outputId": "44908255-2bcd-4e73-ecd2-43dbc7b025da"
      },
      "source": [
        "print(data['DESCR'])"
      ],
      "execution_count": 4,
      "outputs": [
        {
          "output_type": "stream",
          "name": "stdout",
          "text": [
            ".. _breast_cancer_dataset:\n",
            "\n",
            "Breast cancer wisconsin (diagnostic) dataset\n",
            "--------------------------------------------\n",
            "\n",
            "**Data Set Characteristics:**\n",
            "\n",
            "    :Number of Instances: 569\n",
            "\n",
            "    :Number of Attributes: 30 numeric, predictive attributes and the class\n",
            "\n",
            "    :Attribute Information:\n",
            "        - radius (mean of distances from center to points on the perimeter)\n",
            "        - texture (standard deviation of gray-scale values)\n",
            "        - perimeter\n",
            "        - area\n",
            "        - smoothness (local variation in radius lengths)\n",
            "        - compactness (perimeter^2 / area - 1.0)\n",
            "        - concavity (severity of concave portions of the contour)\n",
            "        - concave points (number of concave portions of the contour)\n",
            "        - symmetry \n",
            "        - fractal dimension (\"coastline approximation\" - 1)\n",
            "\n",
            "        The mean, standard error, and \"worst\" or largest (mean of the three\n",
            "        largest values) of these features were computed for each image,\n",
            "        resulting in 30 features.  For instance, field 3 is Mean Radius, field\n",
            "        13 is Radius SE, field 23 is Worst Radius.\n",
            "\n",
            "        - class:\n",
            "                - WDBC-Malignant\n",
            "                - WDBC-Benign\n",
            "\n",
            "    :Summary Statistics:\n",
            "\n",
            "    ===================================== ====== ======\n",
            "                                           Min    Max\n",
            "    ===================================== ====== ======\n",
            "    radius (mean):                        6.981  28.11\n",
            "    texture (mean):                       9.71   39.28\n",
            "    perimeter (mean):                     43.79  188.5\n",
            "    area (mean):                          143.5  2501.0\n",
            "    smoothness (mean):                    0.053  0.163\n",
            "    compactness (mean):                   0.019  0.345\n",
            "    concavity (mean):                     0.0    0.427\n",
            "    concave points (mean):                0.0    0.201\n",
            "    symmetry (mean):                      0.106  0.304\n",
            "    fractal dimension (mean):             0.05   0.097\n",
            "    radius (standard error):              0.112  2.873\n",
            "    texture (standard error):             0.36   4.885\n",
            "    perimeter (standard error):           0.757  21.98\n",
            "    area (standard error):                6.802  542.2\n",
            "    smoothness (standard error):          0.002  0.031\n",
            "    compactness (standard error):         0.002  0.135\n",
            "    concavity (standard error):           0.0    0.396\n",
            "    concave points (standard error):      0.0    0.053\n",
            "    symmetry (standard error):            0.008  0.079\n",
            "    fractal dimension (standard error):   0.001  0.03\n",
            "    radius (worst):                       7.93   36.04\n",
            "    texture (worst):                      12.02  49.54\n",
            "    perimeter (worst):                    50.41  251.2\n",
            "    area (worst):                         185.2  4254.0\n",
            "    smoothness (worst):                   0.071  0.223\n",
            "    compactness (worst):                  0.027  1.058\n",
            "    concavity (worst):                    0.0    1.252\n",
            "    concave points (worst):               0.0    0.291\n",
            "    symmetry (worst):                     0.156  0.664\n",
            "    fractal dimension (worst):            0.055  0.208\n",
            "    ===================================== ====== ======\n",
            "\n",
            "    :Missing Attribute Values: None\n",
            "\n",
            "    :Class Distribution: 212 - Malignant, 357 - Benign\n",
            "\n",
            "    :Creator:  Dr. William H. Wolberg, W. Nick Street, Olvi L. Mangasarian\n",
            "\n",
            "    :Donor: Nick Street\n",
            "\n",
            "    :Date: November, 1995\n",
            "\n",
            "This is a copy of UCI ML Breast Cancer Wisconsin (Diagnostic) datasets.\n",
            "https://goo.gl/U2Uwz2\n",
            "\n",
            "Features are computed from a digitized image of a fine needle\n",
            "aspirate (FNA) of a breast mass.  They describe\n",
            "characteristics of the cell nuclei present in the image.\n",
            "\n",
            "Separating plane described above was obtained using\n",
            "Multisurface Method-Tree (MSM-T) [K. P. Bennett, \"Decision Tree\n",
            "Construction Via Linear Programming.\" Proceedings of the 4th\n",
            "Midwest Artificial Intelligence and Cognitive Science Society,\n",
            "pp. 97-101, 1992], a classification method which uses linear\n",
            "programming to construct a decision tree.  Relevant features\n",
            "were selected using an exhaustive search in the space of 1-4\n",
            "features and 1-3 separating planes.\n",
            "\n",
            "The actual linear program used to obtain the separating plane\n",
            "in the 3-dimensional space is that described in:\n",
            "[K. P. Bennett and O. L. Mangasarian: \"Robust Linear\n",
            "Programming Discrimination of Two Linearly Inseparable Sets\",\n",
            "Optimization Methods and Software 1, 1992, 23-34].\n",
            "\n",
            "This database is also available through the UW CS ftp server:\n",
            "\n",
            "ftp ftp.cs.wisc.edu\n",
            "cd math-prog/cpo-dataset/machine-learn/WDBC/\n",
            "\n",
            ".. topic:: References\n",
            "\n",
            "   - W.N. Street, W.H. Wolberg and O.L. Mangasarian. Nuclear feature extraction \n",
            "     for breast tumor diagnosis. IS&T/SPIE 1993 International Symposium on \n",
            "     Electronic Imaging: Science and Technology, volume 1905, pages 861-870,\n",
            "     San Jose, CA, 1993.\n",
            "   - O.L. Mangasarian, W.N. Street and W.H. Wolberg. Breast cancer diagnosis and \n",
            "     prognosis via linear programming. Operations Research, 43(4), pages 570-577, \n",
            "     July-August 1995.\n",
            "   - W.H. Wolberg, W.N. Street, and O.L. Mangasarian. Machine learning techniques\n",
            "     to diagnose breast cancer from fine-needle aspirates. Cancer Letters 77 (1994) \n",
            "     163-171.\n"
          ]
        }
      ]
    },
    {
      "cell_type": "code",
      "metadata": {
        "id": "FFs6Nq29oTmN"
      },
      "source": [
        ""
      ],
      "execution_count": null,
      "outputs": []
    },
    {
      "cell_type": "code",
      "metadata": {
        "colab": {
          "base_uri": "https://localhost:8080/"
        },
        "id": "QmUxOdSdoBDx",
        "outputId": "c0138a95-b6df-4e59-d48f-41955223071d"
      },
      "source": [
        "data['data'].shape"
      ],
      "execution_count": 5,
      "outputs": [
        {
          "output_type": "execute_result",
          "data": {
            "text/plain": [
              "(569, 30)"
            ]
          },
          "metadata": {},
          "execution_count": 5
        }
      ]
    },
    {
      "cell_type": "code",
      "metadata": {
        "colab": {
          "base_uri": "https://localhost:8080/"
        },
        "id": "CiZUr_qqoO-e",
        "outputId": "62f267d2-4c80-4705-e8d6-0b3a69ee8cc4"
      },
      "source": [
        "data['feature_names']"
      ],
      "execution_count": 6,
      "outputs": [
        {
          "output_type": "execute_result",
          "data": {
            "text/plain": [
              "array(['mean radius', 'mean texture', 'mean perimeter', 'mean area',\n",
              "       'mean smoothness', 'mean compactness', 'mean concavity',\n",
              "       'mean concave points', 'mean symmetry', 'mean fractal dimension',\n",
              "       'radius error', 'texture error', 'perimeter error', 'area error',\n",
              "       'smoothness error', 'compactness error', 'concavity error',\n",
              "       'concave points error', 'symmetry error',\n",
              "       'fractal dimension error', 'worst radius', 'worst texture',\n",
              "       'worst perimeter', 'worst area', 'worst smoothness',\n",
              "       'worst compactness', 'worst concavity', 'worst concave points',\n",
              "       'worst symmetry', 'worst fractal dimension'], dtype='<U23')"
            ]
          },
          "metadata": {},
          "execution_count": 6
        }
      ]
    },
    {
      "cell_type": "code",
      "metadata": {
        "colab": {
          "base_uri": "https://localhost:8080/"
        },
        "id": "dIgVW8hmoUua",
        "outputId": "2d4757ca-2a73-4990-f50e-6aba7c773dc7"
      },
      "source": [
        "data['data'][0]"
      ],
      "execution_count": 7,
      "outputs": [
        {
          "output_type": "execute_result",
          "data": {
            "text/plain": [
              "array([1.799e+01, 1.038e+01, 1.228e+02, 1.001e+03, 1.184e-01, 2.776e-01,\n",
              "       3.001e-01, 1.471e-01, 2.419e-01, 7.871e-02, 1.095e+00, 9.053e-01,\n",
              "       8.589e+00, 1.534e+02, 6.399e-03, 4.904e-02, 5.373e-02, 1.587e-02,\n",
              "       3.003e-02, 6.193e-03, 2.538e+01, 1.733e+01, 1.846e+02, 2.019e+03,\n",
              "       1.622e-01, 6.656e-01, 7.119e-01, 2.654e-01, 4.601e-01, 1.189e-01])"
            ]
          },
          "metadata": {},
          "execution_count": 7
        }
      ]
    },
    {
      "cell_type": "code",
      "metadata": {
        "colab": {
          "base_uri": "https://localhost:8080/"
        },
        "id": "3ogzrsI_ohsD",
        "outputId": "31b8544d-78c4-4e4f-8447-94b4bb671c17"
      },
      "source": [
        "j = 0\n",
        "for i in data['feature_names']:\n",
        "  print(i,\":\",data['data'][0][j])\n",
        "  j+=1"
      ],
      "execution_count": 8,
      "outputs": [
        {
          "output_type": "stream",
          "name": "stdout",
          "text": [
            "mean radius : 17.99\n",
            "mean texture : 10.38\n",
            "mean perimeter : 122.8\n",
            "mean area : 1001.0\n",
            "mean smoothness : 0.1184\n",
            "mean compactness : 0.2776\n",
            "mean concavity : 0.3001\n",
            "mean concave points : 0.1471\n",
            "mean symmetry : 0.2419\n",
            "mean fractal dimension : 0.07871\n",
            "radius error : 1.095\n",
            "texture error : 0.9053\n",
            "perimeter error : 8.589\n",
            "area error : 153.4\n",
            "smoothness error : 0.006399\n",
            "compactness error : 0.04904\n",
            "concavity error : 0.05373\n",
            "concave points error : 0.01587\n",
            "symmetry error : 0.03003\n",
            "fractal dimension error : 0.006193\n",
            "worst radius : 25.38\n",
            "worst texture : 17.33\n",
            "worst perimeter : 184.6\n",
            "worst area : 2019.0\n",
            "worst smoothness : 0.1622\n",
            "worst compactness : 0.6656\n",
            "worst concavity : 0.7119\n",
            "worst concave points : 0.2654\n",
            "worst symmetry : 0.4601\n",
            "worst fractal dimension : 0.1189\n"
          ]
        }
      ]
    },
    {
      "cell_type": "code",
      "metadata": {
        "id": "7FwFHrOWoliP"
      },
      "source": [
        "\n",
        "feature = data['data']"
      ],
      "execution_count": 9,
      "outputs": []
    },
    {
      "cell_type": "code",
      "metadata": {
        "id": "_kOD_AuaovSB"
      },
      "source": [
        "\n",
        "label = data['target']"
      ],
      "execution_count": 10,
      "outputs": []
    },
    {
      "cell_type": "code",
      "metadata": {
        "colab": {
          "base_uri": "https://localhost:8080/"
        },
        "id": "zigTPRbvozb4",
        "outputId": "e0c664c9-e2f7-4e7f-8f86-155fd0055e4d"
      },
      "source": [
        "\n",
        "data['target_names']"
      ],
      "execution_count": 11,
      "outputs": [
        {
          "output_type": "execute_result",
          "data": {
            "text/plain": [
              "array(['malignant', 'benign'], dtype='<U9')"
            ]
          },
          "metadata": {},
          "execution_count": 11
        }
      ]
    },
    {
      "cell_type": "code",
      "metadata": {
        "colab": {
          "base_uri": "https://localhost:8080/"
        },
        "id": "adHty8XOo4Ma",
        "outputId": "a4b332ba-03a2-46ee-d0a0-5245aa6bd02e"
      },
      "source": [
        "feature.shape"
      ],
      "execution_count": 12,
      "outputs": [
        {
          "output_type": "execute_result",
          "data": {
            "text/plain": [
              "(569, 30)"
            ]
          },
          "metadata": {},
          "execution_count": 12
        }
      ]
    },
    {
      "cell_type": "code",
      "metadata": {
        "colab": {
          "base_uri": "https://localhost:8080/"
        },
        "id": "bIHi6Wlko8AM",
        "outputId": "2e9db810-9b20-420e-cfcc-25d8882484f6"
      },
      "source": [
        "label.shape"
      ],
      "execution_count": 13,
      "outputs": [
        {
          "output_type": "execute_result",
          "data": {
            "text/plain": [
              "(569,)"
            ]
          },
          "metadata": {},
          "execution_count": 13
        }
      ]
    },
    {
      "cell_type": "code",
      "metadata": {
        "id": "4UbBuW02pD49"
      },
      "source": [
        "scale = StandardScaler()\n",
        "\n",
        "feature = scale.fit_transform(feature)\n"
      ],
      "execution_count": 14,
      "outputs": []
    },
    {
      "cell_type": "code",
      "metadata": {
        "colab": {
          "base_uri": "https://localhost:8080/"
        },
        "id": "0Ap3CA6hpJRn",
        "outputId": "3669804b-ac78-4b4d-dc58-f1fbfd1639f5"
      },
      "source": [
        "j = 0\n",
        "for i in data['feature_names']:\n",
        "  print(i,\":\",feature[0][j])\n",
        "  j+=1"
      ],
      "execution_count": 15,
      "outputs": [
        {
          "output_type": "stream",
          "name": "stdout",
          "text": [
            "mean radius : 1.0970639814699807\n",
            "mean texture : -2.0733350146975935\n",
            "mean perimeter : 1.2699336881399383\n",
            "mean area : 0.9843749048031144\n",
            "mean smoothness : 1.568466329243428\n",
            "mean compactness : 3.2835146709868264\n",
            "mean concavity : 2.652873983743168\n",
            "mean concave points : 2.532475216403245\n",
            "mean symmetry : 2.2175150059646405\n",
            "mean fractal dimension : 2.255746885296269\n",
            "radius error : 2.4897339267376193\n",
            "texture error : -0.5652650590684639\n",
            "perimeter error : 2.833030865855184\n",
            "area error : 2.4875775569611043\n",
            "smoothness error : -0.21400164666895383\n",
            "compactness error : 1.3168615683959484\n",
            "concavity error : 0.72402615808036\n",
            "concave points error : 0.6608199414286064\n",
            "symmetry error : 1.1487566671861758\n",
            "fractal dimension error : 0.9070830809973359\n",
            "worst radius : 1.8866896251792757\n",
            "worst texture : -1.3592934737640827\n",
            "worst perimeter : 2.3036006236225606\n",
            "worst area : 2.0012374893299207\n",
            "worst smoothness : 1.3076862710715387\n",
            "worst compactness : 2.616665023512603\n",
            "worst concavity : 2.1095263465722556\n",
            "worst concave points : 2.296076127561788\n",
            "worst symmetry : 2.750622244124955\n",
            "worst fractal dimension : 1.9370146123781782\n"
          ]
        }
      ]
    },
    {
      "cell_type": "code",
      "metadata": {
        "colab": {
          "base_uri": "https://localhost:8080/"
        },
        "id": "5Tu0HuphpNSi",
        "outputId": "513161b2-e1ed-4773-afef-9db1bca71b75"
      },
      "source": [
        "print(feature[568])\n",
        "print(data['target_names'][label[568]],label[568])"
      ],
      "execution_count": 16,
      "outputs": [
        {
          "output_type": "stream",
          "name": "stdout",
          "text": [
            "[-1.80840125  1.22179204 -1.81438851 -1.34778924 -3.11208479 -1.15075248\n",
            " -1.11487284 -1.26181958 -0.8200699  -0.56103238 -0.07027874  0.3830925\n",
            " -0.15744905 -0.46615196  0.04934236 -1.16351619 -1.05750068 -1.91344745\n",
            "  0.75282996 -0.382754   -1.41089258  0.76418957 -1.43273495 -1.07581292\n",
            " -1.85901852 -1.2075525  -1.30583065 -1.74506282 -0.04813821 -0.75120669]\n",
            "benign 1\n"
          ]
        }
      ]
    },
    {
      "cell_type": "code",
      "metadata": {
        "id": "nbC_uuCmpXFY"
      },
      "source": [
        "df_frt = pd.DataFrame(feature , columns = data['feature_names'])\n",
        "df_lbl = pd.DataFrame(label , columns = ['label'])\n",
        "df = pd.concat([df_frt, df_lbl], axis=1)\n",
        "df = df.sample(frac = 1)\n",
        "\n",
        "feature = df.values[ : , : 30]\n",
        "label = df.values[ : ,30: ]\n"
      ],
      "execution_count": 17,
      "outputs": []
    },
    {
      "cell_type": "code",
      "metadata": {
        "colab": {
          "base_uri": "https://localhost:8080/",
          "height": 470
        },
        "id": "i1LHb3XFpbTl",
        "outputId": "01fb6a18-159b-4316-a565-75b6d9ef6606"
      },
      "source": [
        "df"
      ],
      "execution_count": 18,
      "outputs": [
        {
          "output_type": "execute_result",
          "data": {
            "text/html": [
              "<div>\n",
              "<style scoped>\n",
              "    .dataframe tbody tr th:only-of-type {\n",
              "        vertical-align: middle;\n",
              "    }\n",
              "\n",
              "    .dataframe tbody tr th {\n",
              "        vertical-align: top;\n",
              "    }\n",
              "\n",
              "    .dataframe thead th {\n",
              "        text-align: right;\n",
              "    }\n",
              "</style>\n",
              "<table border=\"1\" class=\"dataframe\">\n",
              "  <thead>\n",
              "    <tr style=\"text-align: right;\">\n",
              "      <th></th>\n",
              "      <th>mean radius</th>\n",
              "      <th>mean texture</th>\n",
              "      <th>mean perimeter</th>\n",
              "      <th>mean area</th>\n",
              "      <th>mean smoothness</th>\n",
              "      <th>mean compactness</th>\n",
              "      <th>mean concavity</th>\n",
              "      <th>mean concave points</th>\n",
              "      <th>mean symmetry</th>\n",
              "      <th>mean fractal dimension</th>\n",
              "      <th>radius error</th>\n",
              "      <th>texture error</th>\n",
              "      <th>perimeter error</th>\n",
              "      <th>area error</th>\n",
              "      <th>smoothness error</th>\n",
              "      <th>compactness error</th>\n",
              "      <th>concavity error</th>\n",
              "      <th>concave points error</th>\n",
              "      <th>symmetry error</th>\n",
              "      <th>fractal dimension error</th>\n",
              "      <th>worst radius</th>\n",
              "      <th>worst texture</th>\n",
              "      <th>worst perimeter</th>\n",
              "      <th>worst area</th>\n",
              "      <th>worst smoothness</th>\n",
              "      <th>worst compactness</th>\n",
              "      <th>worst concavity</th>\n",
              "      <th>worst concave points</th>\n",
              "      <th>worst symmetry</th>\n",
              "      <th>worst fractal dimension</th>\n",
              "      <th>label</th>\n",
              "    </tr>\n",
              "  </thead>\n",
              "  <tbody>\n",
              "    <tr>\n",
              "      <th>173</th>\n",
              "      <td>-0.865474</td>\n",
              "      <td>-1.065715</td>\n",
              "      <td>-0.896259</td>\n",
              "      <td>-0.802575</td>\n",
              "      <td>0.301721</td>\n",
              "      <td>-0.889033</td>\n",
              "      <td>-0.818199</td>\n",
              "      <td>-0.595561</td>\n",
              "      <td>-0.896740</td>\n",
              "      <td>0.551787</td>\n",
              "      <td>-0.714162</td>\n",
              "      <td>1.067100</td>\n",
              "      <td>-0.737130</td>\n",
              "      <td>-0.467692</td>\n",
              "      <td>2.639781</td>\n",
              "      <td>-0.238544</td>\n",
              "      <td>-0.575729</td>\n",
              "      <td>0.654332</td>\n",
              "      <td>1.244409</td>\n",
              "      <td>0.374505</td>\n",
              "      <td>-1.018678</td>\n",
              "      <td>-1.442344</td>\n",
              "      <td>-1.049987</td>\n",
              "      <td>-0.850976</td>\n",
              "      <td>-0.472051</td>\n",
              "      <td>-1.093302</td>\n",
              "      <td>-1.116904</td>\n",
              "      <td>-1.089406</td>\n",
              "      <td>-1.615768</td>\n",
              "      <td>-0.599367</td>\n",
              "      <td>1</td>\n",
              "    </tr>\n",
              "    <tr>\n",
              "      <th>324</th>\n",
              "      <td>-0.547378</td>\n",
              "      <td>-0.949362</td>\n",
              "      <td>-0.574975</td>\n",
              "      <td>-0.560257</td>\n",
              "      <td>-0.685343</td>\n",
              "      <td>-0.737042</td>\n",
              "      <td>-0.864527</td>\n",
              "      <td>-0.825385</td>\n",
              "      <td>-0.633872</td>\n",
              "      <td>-0.213719</td>\n",
              "      <td>-0.532979</td>\n",
              "      <td>-0.743071</td>\n",
              "      <td>-0.449022</td>\n",
              "      <td>-0.469232</td>\n",
              "      <td>-0.546015</td>\n",
              "      <td>-0.631448</td>\n",
              "      <td>-0.709020</td>\n",
              "      <td>-1.079365</td>\n",
              "      <td>-0.873254</td>\n",
              "      <td>-0.654338</td>\n",
              "      <td>-0.521680</td>\n",
              "      <td>-0.699776</td>\n",
              "      <td>-0.481077</td>\n",
              "      <td>-0.522949</td>\n",
              "      <td>-0.296707</td>\n",
              "      <td>-0.391004</td>\n",
              "      <td>-0.745960</td>\n",
              "      <td>-0.899073</td>\n",
              "      <td>-0.387872</td>\n",
              "      <td>-0.240273</td>\n",
              "      <td>1</td>\n",
              "    </tr>\n",
              "    <tr>\n",
              "      <th>193</th>\n",
              "      <td>-0.507616</td>\n",
              "      <td>1.761672</td>\n",
              "      <td>-0.445638</td>\n",
              "      <td>-0.504797</td>\n",
              "      <td>0.500985</td>\n",
              "      <td>0.586719</td>\n",
              "      <td>0.247342</td>\n",
              "      <td>-0.085098</td>\n",
              "      <td>0.479666</td>\n",
              "      <td>0.931705</td>\n",
              "      <td>0.000462</td>\n",
              "      <td>1.074358</td>\n",
              "      <td>-0.110916</td>\n",
              "      <td>-0.129746</td>\n",
              "      <td>0.685701</td>\n",
              "      <td>0.724991</td>\n",
              "      <td>0.190198</td>\n",
              "      <td>0.229342</td>\n",
              "      <td>-0.213376</td>\n",
              "      <td>0.710014</td>\n",
              "      <td>-0.128223</td>\n",
              "      <td>2.224898</td>\n",
              "      <td>-0.165645</td>\n",
              "      <td>-0.196329</td>\n",
              "      <td>2.022211</td>\n",
              "      <td>1.376193</td>\n",
              "      <td>0.817074</td>\n",
              "      <td>0.476498</td>\n",
              "      <td>0.508378</td>\n",
              "      <td>2.025680</td>\n",
              "      <td>0</td>\n",
              "    </tr>\n",
              "    <tr>\n",
              "      <th>41</th>\n",
              "      <td>-0.902396</td>\n",
              "      <td>0.479458</td>\n",
              "      <td>-0.826648</td>\n",
              "      <td>-0.807125</td>\n",
              "      <td>1.874478</td>\n",
              "      <td>0.330874</td>\n",
              "      <td>0.195866</td>\n",
              "      <td>0.200441</td>\n",
              "      <td>0.304421</td>\n",
              "      <td>0.836725</td>\n",
              "      <td>-0.608412</td>\n",
              "      <td>0.383092</td>\n",
              "      <td>-0.516841</td>\n",
              "      <td>-0.514116</td>\n",
              "      <td>0.341021</td>\n",
              "      <td>-0.438070</td>\n",
              "      <td>-0.197076</td>\n",
              "      <td>-0.231333</td>\n",
              "      <td>-0.844196</td>\n",
              "      <td>-0.285543</td>\n",
              "      <td>-0.710125</td>\n",
              "      <td>1.573523</td>\n",
              "      <td>-0.596944</td>\n",
              "      <td>-0.644421</td>\n",
              "      <td>2.565776</td>\n",
              "      <td>0.098824</td>\n",
              "      <td>0.624213</td>\n",
              "      <td>0.423205</td>\n",
              "      <td>0.102315</td>\n",
              "      <td>0.671317</td>\n",
              "      <td>0</td>\n",
              "    </tr>\n",
              "    <tr>\n",
              "      <th>555</th>\n",
              "      <td>-1.089845</td>\n",
              "      <td>1.936202</td>\n",
              "      <td>-1.083262</td>\n",
              "      <td>-0.948477</td>\n",
              "      <td>-0.431283</td>\n",
              "      <td>-0.526112</td>\n",
              "      <td>-0.361700</td>\n",
              "      <td>-0.555580</td>\n",
              "      <td>-0.798164</td>\n",
              "      <td>-0.216555</td>\n",
              "      <td>-0.668686</td>\n",
              "      <td>1.854525</td>\n",
              "      <td>-0.707428</td>\n",
              "      <td>-0.569340</td>\n",
              "      <td>1.669741</td>\n",
              "      <td>0.105176</td>\n",
              "      <td>0.535363</td>\n",
              "      <td>0.878181</td>\n",
              "      <td>-0.255754</td>\n",
              "      <td>0.432378</td>\n",
              "      <td>-1.124290</td>\n",
              "      <td>1.503500</td>\n",
              "      <td>-1.122664</td>\n",
              "      <td>-0.919359</td>\n",
              "      <td>0.264392</td>\n",
              "      <td>-0.529682</td>\n",
              "      <td>-0.346326</td>\n",
              "      <td>-0.355331</td>\n",
              "      <td>-1.091607</td>\n",
              "      <td>-0.061834</td>\n",
              "      <td>1</td>\n",
              "    </tr>\n",
              "    <tr>\n",
              "      <th>...</th>\n",
              "      <td>...</td>\n",
              "      <td>...</td>\n",
              "      <td>...</td>\n",
              "      <td>...</td>\n",
              "      <td>...</td>\n",
              "      <td>...</td>\n",
              "      <td>...</td>\n",
              "      <td>...</td>\n",
              "      <td>...</td>\n",
              "      <td>...</td>\n",
              "      <td>...</td>\n",
              "      <td>...</td>\n",
              "      <td>...</td>\n",
              "      <td>...</td>\n",
              "      <td>...</td>\n",
              "      <td>...</td>\n",
              "      <td>...</td>\n",
              "      <td>...</td>\n",
              "      <td>...</td>\n",
              "      <td>...</td>\n",
              "      <td>...</td>\n",
              "      <td>...</td>\n",
              "      <td>...</td>\n",
              "      <td>...</td>\n",
              "      <td>...</td>\n",
              "      <td>...</td>\n",
              "      <td>...</td>\n",
              "      <td>...</td>\n",
              "      <td>...</td>\n",
              "      <td>...</td>\n",
              "      <td>...</td>\n",
              "    </tr>\n",
              "    <tr>\n",
              "      <th>337</th>\n",
              "      <td>1.318595</td>\n",
              "      <td>0.498074</td>\n",
              "      <td>1.274053</td>\n",
              "      <td>1.243188</td>\n",
              "      <td>-0.370080</td>\n",
              "      <td>0.679581</td>\n",
              "      <td>0.215954</td>\n",
              "      <td>0.309034</td>\n",
              "      <td>0.516175</td>\n",
              "      <td>-0.278929</td>\n",
              "      <td>0.855484</td>\n",
              "      <td>0.568156</td>\n",
              "      <td>0.744002</td>\n",
              "      <td>1.054166</td>\n",
              "      <td>0.169014</td>\n",
              "      <td>0.754054</td>\n",
              "      <td>0.240265</td>\n",
              "      <td>1.032280</td>\n",
              "      <td>0.137751</td>\n",
              "      <td>0.245900</td>\n",
              "      <td>1.712740</td>\n",
              "      <td>1.415565</td>\n",
              "      <td>1.603633</td>\n",
              "      <td>1.744582</td>\n",
              "      <td>0.764121</td>\n",
              "      <td>1.453165</td>\n",
              "      <td>0.917342</td>\n",
              "      <td>1.373344</td>\n",
              "      <td>1.259029</td>\n",
              "      <td>0.817615</td>\n",
              "      <td>0</td>\n",
              "    </tr>\n",
              "    <tr>\n",
              "      <th>411</th>\n",
              "      <td>-0.876835</td>\n",
              "      <td>-0.572377</td>\n",
              "      <td>-0.867014</td>\n",
              "      <td>-0.801153</td>\n",
              "      <td>0.806996</td>\n",
              "      <td>-0.498443</td>\n",
              "      <td>-0.732448</td>\n",
              "      <td>-0.622129</td>\n",
              "      <td>-0.356400</td>\n",
              "      <td>0.085395</td>\n",
              "      <td>-0.752419</td>\n",
              "      <td>0.308704</td>\n",
              "      <td>-0.754456</td>\n",
              "      <td>-0.589582</td>\n",
              "      <td>-0.627685</td>\n",
              "      <td>-0.901115</td>\n",
              "      <td>-0.707363</td>\n",
              "      <td>-0.699633</td>\n",
              "      <td>-0.407102</td>\n",
              "      <td>-0.604031</td>\n",
              "      <td>-0.799171</td>\n",
              "      <td>0.124213</td>\n",
              "      <td>-0.814083</td>\n",
              "      <td>-0.719308</td>\n",
              "      <td>0.198638</td>\n",
              "      <td>-0.674722</td>\n",
              "      <td>-0.793935</td>\n",
              "      <td>-0.613574</td>\n",
              "      <td>0.157320</td>\n",
              "      <td>-0.284606</td>\n",
              "      <td>1</td>\n",
              "    </tr>\n",
              "    <tr>\n",
              "      <th>253</th>\n",
              "      <td>0.901094</td>\n",
              "      <td>-0.514200</td>\n",
              "      <td>0.866270</td>\n",
              "      <td>0.777324</td>\n",
              "      <td>0.315955</td>\n",
              "      <td>-0.004567</td>\n",
              "      <td>0.474586</td>\n",
              "      <td>0.892752</td>\n",
              "      <td>0.005043</td>\n",
              "      <td>-0.945203</td>\n",
              "      <td>-0.346022</td>\n",
              "      <td>-0.653261</td>\n",
              "      <td>-0.333185</td>\n",
              "      <td>-0.147567</td>\n",
              "      <td>-0.761357</td>\n",
              "      <td>-0.583942</td>\n",
              "      <td>-0.284279</td>\n",
              "      <td>0.133639</td>\n",
              "      <td>-0.799396</td>\n",
              "      <td>-0.541998</td>\n",
              "      <td>0.741523</td>\n",
              "      <td>-0.095626</td>\n",
              "      <td>0.704101</td>\n",
              "      <td>0.600181</td>\n",
              "      <td>0.404667</td>\n",
              "      <td>-0.087565</td>\n",
              "      <td>0.314773</td>\n",
              "      <td>1.082516</td>\n",
              "      <td>0.383809</td>\n",
              "      <td>-0.156041</td>\n",
              "      <td>0</td>\n",
              "    </tr>\n",
              "    <tr>\n",
              "      <th>110</th>\n",
              "      <td>-1.235545</td>\n",
              "      <td>-0.535144</td>\n",
              "      <td>-1.213835</td>\n",
              "      <td>-1.037213</td>\n",
              "      <td>0.522334</td>\n",
              "      <td>-0.384734</td>\n",
              "      <td>-0.570740</td>\n",
              "      <td>-0.803203</td>\n",
              "      <td>-0.831023</td>\n",
              "      <td>1.113158</td>\n",
              "      <td>-0.007839</td>\n",
              "      <td>0.375835</td>\n",
              "      <td>-0.058938</td>\n",
              "      <td>-0.384306</td>\n",
              "      <td>2.269766</td>\n",
              "      <td>0.214720</td>\n",
              "      <td>-0.154967</td>\n",
              "      <td>-0.254043</td>\n",
              "      <td>1.485355</td>\n",
              "      <td>0.318902</td>\n",
              "      <td>-1.080803</td>\n",
              "      <td>-0.685120</td>\n",
              "      <td>-1.059816</td>\n",
              "      <td>-0.902834</td>\n",
              "      <td>0.628230</td>\n",
              "      <td>-0.494694</td>\n",
              "      <td>-0.682153</td>\n",
              "      <td>-0.932876</td>\n",
              "      <td>-0.594948</td>\n",
              "      <td>0.040685</td>\n",
              "      <td>1</td>\n",
              "    </tr>\n",
              "    <tr>\n",
              "      <th>518</th>\n",
              "      <td>-0.354249</td>\n",
              "      <td>-0.248914</td>\n",
              "      <td>-0.309710</td>\n",
              "      <td>-0.460145</td>\n",
              "      <td>1.810429</td>\n",
              "      <td>1.170425</td>\n",
              "      <td>-0.509095</td>\n",
              "      <td>0.106035</td>\n",
              "      <td>-0.374655</td>\n",
              "      <td>1.379668</td>\n",
              "      <td>0.135085</td>\n",
              "      <td>-0.086823</td>\n",
              "      <td>0.153430</td>\n",
              "      <td>-0.131286</td>\n",
              "      <td>-0.589350</td>\n",
              "      <td>-0.122294</td>\n",
              "      <td>-0.591645</td>\n",
              "      <td>0.104441</td>\n",
              "      <td>-0.288445</td>\n",
              "      <td>-0.187576</td>\n",
              "      <td>-0.252473</td>\n",
              "      <td>-0.212873</td>\n",
              "      <td>-0.236834</td>\n",
              "      <td>-0.361925</td>\n",
              "      <td>0.580010</td>\n",
              "      <td>0.266129</td>\n",
              "      <td>-0.708059</td>\n",
              "      <td>-0.076228</td>\n",
              "      <td>-0.515677</td>\n",
              "      <td>0.276203</td>\n",
              "      <td>1</td>\n",
              "    </tr>\n",
              "  </tbody>\n",
              "</table>\n",
              "<p>569 rows × 31 columns</p>\n",
              "</div>"
            ],
            "text/plain": [
              "     mean radius  mean texture  ...  worst fractal dimension  label\n",
              "173    -0.865474     -1.065715  ...                -0.599367      1\n",
              "324    -0.547378     -0.949362  ...                -0.240273      1\n",
              "193    -0.507616      1.761672  ...                 2.025680      0\n",
              "41     -0.902396      0.479458  ...                 0.671317      0\n",
              "555    -1.089845      1.936202  ...                -0.061834      1\n",
              "..           ...           ...  ...                      ...    ...\n",
              "337     1.318595      0.498074  ...                 0.817615      0\n",
              "411    -0.876835     -0.572377  ...                -0.284606      1\n",
              "253     0.901094     -0.514200  ...                -0.156041      0\n",
              "110    -1.235545     -0.535144  ...                 0.040685      1\n",
              "518    -0.354249     -0.248914  ...                 0.276203      1\n",
              "\n",
              "[569 rows x 31 columns]"
            ]
          },
          "metadata": {},
          "execution_count": 18
        }
      ]
    },
    {
      "cell_type": "code",
      "metadata": {
        "id": "s4ZUFzqBpmwk"
      },
      "source": [
        "#500 Training\n",
        "X_train = feature[:500]\n",
        "y_train = label[:500]\n",
        "\n",
        "#35 Validation\n",
        "X_val = feature[500:535]\n",
        "y_val = label[500:535]\n",
        "\n",
        "#34 Testing\n",
        "X_test = feature[535:]\n",
        "y_test = label[535:]\n"
      ],
      "execution_count": 19,
      "outputs": []
    },
    {
      "cell_type": "code",
      "metadata": {
        "id": "MNu-v9Eup2Oh"
      },
      "source": [
        "model = Sequential()\n",
        "\n",
        "model.add(Dense(32, activation = 'relu', input_dim = 30))\n",
        "model.add(Dense(64, activation = 'relu'))\n",
        "model.add(Dense(128, activation = 'relu'))\n",
        "model.add(Dense(64, activation = 'relu'))\n",
        "model.add(Dense(32, activation = 'relu'))\n",
        "model.add(Dense(1, activation = 'sigmoid'))\n",
        "\n",
        "model.compile( loss = 'binary_crossentropy' , optimizer = 'adam' , metrics = ['accuracy'])"
      ],
      "execution_count": 20,
      "outputs": []
    },
    {
      "cell_type": "code",
      "metadata": {
        "colab": {
          "base_uri": "https://localhost:8080/"
        },
        "id": "CAvLopIpp9bI",
        "outputId": "f8b2633e-b694-4c41-d369-63a6904e077c"
      },
      "source": [
        "model.fit( X_train , y_train, epochs = 10, batch_size = 5, validation_data = (X_val, y_val))"
      ],
      "execution_count": 21,
      "outputs": [
        {
          "output_type": "stream",
          "name": "stdout",
          "text": [
            "Epoch 1/10\n",
            "100/100 [==============================] - 1s 4ms/step - loss: 0.2001 - accuracy: 0.9480 - val_loss: 0.0260 - val_accuracy: 1.0000\n",
            "Epoch 2/10\n",
            "100/100 [==============================] - 0s 2ms/step - loss: 0.0708 - accuracy: 0.9780 - val_loss: 0.0408 - val_accuracy: 1.0000\n",
            "Epoch 3/10\n",
            "100/100 [==============================] - 0s 2ms/step - loss: 0.0573 - accuracy: 0.9820 - val_loss: 0.5885 - val_accuracy: 0.8857\n",
            "Epoch 4/10\n",
            "100/100 [==============================] - 0s 2ms/step - loss: 0.0703 - accuracy: 0.9780 - val_loss: 0.1908 - val_accuracy: 0.9714\n",
            "Epoch 5/10\n",
            "100/100 [==============================] - 0s 2ms/step - loss: 0.0450 - accuracy: 0.9840 - val_loss: 0.2802 - val_accuracy: 0.9429\n",
            "Epoch 6/10\n",
            "100/100 [==============================] - 0s 2ms/step - loss: 0.0283 - accuracy: 0.9900 - val_loss: 0.2283 - val_accuracy: 0.9714\n",
            "Epoch 7/10\n",
            "100/100 [==============================] - 0s 2ms/step - loss: 0.0253 - accuracy: 0.9920 - val_loss: 0.2944 - val_accuracy: 0.9714\n",
            "Epoch 8/10\n",
            "100/100 [==============================] - 0s 2ms/step - loss: 0.0395 - accuracy: 0.9860 - val_loss: 0.1594 - val_accuracy: 0.9429\n",
            "Epoch 9/10\n",
            "100/100 [==============================] - 0s 2ms/step - loss: 0.0233 - accuracy: 0.9920 - val_loss: 0.1497 - val_accuracy: 0.9714\n",
            "Epoch 10/10\n",
            "100/100 [==============================] - 0s 2ms/step - loss: 0.0095 - accuracy: 0.9960 - val_loss: 0.2886 - val_accuracy: 0.9429\n"
          ]
        },
        {
          "output_type": "execute_result",
          "data": {
            "text/plain": [
              "<keras.callbacks.History at 0x7f8dd054dcd0>"
            ]
          },
          "metadata": {},
          "execution_count": 21
        }
      ]
    },
    {
      "cell_type": "code",
      "metadata": {
        "colab": {
          "base_uri": "https://localhost:8080/"
        },
        "id": "OtTvEDFFqEgF",
        "outputId": "579bfedf-06e7-486b-ab79-5331d6ffe1d8"
      },
      "source": [
        "model.evaluate(X_test , y_test)"
      ],
      "execution_count": 22,
      "outputs": [
        {
          "output_type": "stream",
          "name": "stdout",
          "text": [
            "2/2 [==============================] - 0s 7ms/step - loss: 0.2215 - accuracy: 0.9412\n"
          ]
        },
        {
          "output_type": "execute_result",
          "data": {
            "text/plain": [
              "[0.22153107821941376, 0.9411764740943909]"
            ]
          },
          "metadata": {},
          "execution_count": 22
        }
      ]
    },
    {
      "cell_type": "code",
      "metadata": {
        "colab": {
          "base_uri": "https://localhost:8080/"
        },
        "id": "gZTj-Zw0qPl-",
        "outputId": "7ce8913e-4149-4f78-9ba3-73fa73fa797c"
      },
      "source": [
        "\n",
        "model.evaluate(X_val , y_val)"
      ],
      "execution_count": 23,
      "outputs": [
        {
          "output_type": "stream",
          "name": "stdout",
          "text": [
            "2/2 [==============================] - 0s 6ms/step - loss: 0.2886 - accuracy: 0.9429\n"
          ]
        },
        {
          "output_type": "execute_result",
          "data": {
            "text/plain": [
              "[0.2885762155056, 0.9428571462631226]"
            ]
          },
          "metadata": {},
          "execution_count": 23
        }
      ]
    },
    {
      "cell_type": "code",
      "metadata": {
        "colab": {
          "base_uri": "https://localhost:8080/"
        },
        "id": "AAU1_M8pqVuI",
        "outputId": "aaefaf30-e62a-4c03-a295-ba64bc5f2ac0"
      },
      "source": [
        "\n",
        "for i in range(30):\n",
        "  sample = X_test[i]\n",
        "  sample = np.reshape(sample, (1,30))\n",
        "\n",
        "  if (model.predict(sample)[0][0] > 0.5):\n",
        "    print(\"-Benign\")\n",
        "  else:\n",
        "    print(\"-Malignant\")\n",
        "\n",
        "  if (y_test[i] == 1):\n",
        "    print(\"*Banign\")\n",
        "  else:\n",
        "    print(\"*Melignant\")\n",
        "  print(\"-----------\")"
      ],
      "execution_count": 24,
      "outputs": [
        {
          "output_type": "stream",
          "name": "stdout",
          "text": [
            "-Benign\n",
            "*Banign\n",
            "-----------\n",
            "-Malignant\n",
            "*Melignant\n",
            "-----------\n",
            "-Benign\n",
            "*Banign\n",
            "-----------\n",
            "-Malignant\n",
            "*Melignant\n",
            "-----------\n",
            "-Malignant\n",
            "*Melignant\n",
            "-----------\n",
            "-Benign\n",
            "*Banign\n",
            "-----------\n",
            "-Benign\n",
            "*Banign\n",
            "-----------\n",
            "-Benign\n",
            "*Banign\n",
            "-----------\n",
            "-Benign\n",
            "*Banign\n",
            "-----------\n",
            "-Benign\n",
            "*Banign\n",
            "-----------\n",
            "-Benign\n",
            "*Banign\n",
            "-----------\n",
            "-Malignant\n",
            "*Melignant\n",
            "-----------\n",
            "-Benign\n",
            "*Banign\n",
            "-----------\n",
            "-Malignant\n",
            "*Melignant\n",
            "-----------\n",
            "-Benign\n",
            "*Banign\n",
            "-----------\n",
            "-Benign\n",
            "*Banign\n",
            "-----------\n",
            "-Benign\n",
            "*Banign\n",
            "-----------\n",
            "-Benign\n",
            "*Banign\n",
            "-----------\n",
            "-Malignant\n",
            "*Melignant\n",
            "-----------\n",
            "-Malignant\n",
            "*Melignant\n",
            "-----------\n",
            "-Benign\n",
            "*Banign\n",
            "-----------\n",
            "-Benign\n",
            "*Banign\n",
            "-----------\n",
            "-Benign\n",
            "*Banign\n",
            "-----------\n",
            "-Benign\n",
            "*Melignant\n",
            "-----------\n",
            "-Benign\n",
            "*Banign\n",
            "-----------\n",
            "-Benign\n",
            "*Banign\n",
            "-----------\n",
            "-Benign\n",
            "*Banign\n",
            "-----------\n",
            "-Benign\n",
            "*Banign\n",
            "-----------\n",
            "-Benign\n",
            "*Melignant\n",
            "-----------\n",
            "-Malignant\n",
            "*Melignant\n",
            "-----------\n"
          ]
        }
      ]
    },
    {
      "cell_type": "code",
      "metadata": {
        "colab": {
          "base_uri": "https://localhost:8080/"
        },
        "id": "0oqt9HXmqcdr",
        "outputId": "243d4997-7191-4bb6-fe55-e775c7b10ec4"
      },
      "source": [
        "\n",
        "t = 0\n",
        "for i in y_val:\n",
        "  if (i == 1):\n",
        "    t += 1\n",
        "\n",
        "print(t)"
      ],
      "execution_count": 25,
      "outputs": [
        {
          "output_type": "stream",
          "name": "stdout",
          "text": [
            "16\n"
          ]
        }
      ]
    },
    {
      "cell_type": "code",
      "metadata": {
        "colab": {
          "base_uri": "https://localhost:8080/"
        },
        "id": "zsDTghl4qj7H",
        "outputId": "a473d777-ee9b-46a4-d8d1-8d8d2802f16e"
      },
      "source": [
        "t = 0\n",
        "for i in y_test:\n",
        "  if (i == 1):\n",
        "    t += 1\n",
        "\n",
        "print(t)"
      ],
      "execution_count": 26,
      "outputs": [
        {
          "output_type": "stream",
          "name": "stdout",
          "text": [
            "23\n"
          ]
        }
      ]
    },
    {
      "cell_type": "code",
      "metadata": {
        "colab": {
          "base_uri": "https://localhost:8080/"
        },
        "id": "z1R849_0qpg0",
        "outputId": "af405313-3b0d-4b99-a753-9a7809aae34e"
      },
      "source": [
        "\n",
        "X_test[0] * -.1"
      ],
      "execution_count": 27,
      "outputs": [
        {
          "output_type": "execute_result",
          "data": {
            "text/plain": [
              "array([ 0.01923605,  0.02302979,  0.02211516,  0.02838105, -0.04155862,\n",
              "        0.04300277,  0.06159383,  0.05447469,  0.06338718,  0.08076955,\n",
              "        0.03976341, -0.02833036,  0.03797178,  0.03326016,  0.03856753,\n",
              "        0.05906484,  0.04368012,  0.03941917,  0.02061118,  0.07481448,\n",
              "        0.02421188, -0.00427916,  0.02880652,  0.03185041, -0.00671305,\n",
              "        0.05036003,  0.06432927,  0.05404867,  0.03603699,  0.09928197])"
            ]
          },
          "metadata": {},
          "execution_count": 27
        }
      ]
    },
    {
      "cell_type": "code",
      "metadata": {
        "colab": {
          "base_uri": "https://localhost:8080/"
        },
        "id": "Fz8Hme5yqvVx",
        "outputId": "97f1074b-3725-47ce-818f-f68ebaeba764"
      },
      "source": [
        "348/350"
      ],
      "execution_count": 28,
      "outputs": [
        {
          "output_type": "execute_result",
          "data": {
            "text/plain": [
              "0.9942857142857143"
            ]
          },
          "metadata": {},
          "execution_count": 28
        }
      ]
    }
  ]
}